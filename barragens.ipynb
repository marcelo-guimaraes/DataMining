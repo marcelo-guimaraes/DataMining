{
 "cells": [
  {
   "cell_type": "code",
   "execution_count": null,
   "metadata": {},
   "outputs": [],
   "source": [
    "# import webdriver \n",
    "from selenium import webdriver \n",
    "  \n",
    "# import Action chains  \n",
    "from selenium.webdriver.common.action_chains import ActionChains \n",
    "  \n",
    "profile = webdriver.FirefoxProfile()\n",
    "\n",
    "# Configurando Firefox para n~ao mostrar popup quando for salvar arquivo\n",
    "profile.set_preference(\"browser.download.panel.shown\", False)\n",
    "profile.set_preference(\"browser.helperApps.neverAsk.openFile\",\"text/csv,application/vnd.ms-excel\")\n",
    "profile.set_preference(\"browser.helperApps.neverAsk.saveToDisk\", \"text/csv,application/vnd.ms-excel\")\n",
    "profile.set_preference(\"browser.download.folderList\", 2)\n",
    "profile.set_preference(\"browser.download.dir\", \"/home/marcelo/datasprints/IBRAM\") # Precisa alterar o dir\n",
    "\n",
    "    \n",
    "# create webdriver object \n",
    "driver = webdriver.Firefox(firefox_profile=profile) \n",
    "  \n",
    "# get geeksforgeeks.org \n",
    "driver.get(\"https://app.anm.gov.br/SIGBM/Publico/ClassificacaoNacionalDaBarragem\") \n",
    "  \n",
    "# get element  \n",
    "element = driver.find_element_by_id(\"btnExportar\") \n",
    "\n",
    "  \n",
    "# create action chain object \n",
    "action = ActionChains(driver) \n",
    "  \n",
    "# click the item \n",
    "action.click(on_element = element) \n",
    "  \n",
    "# perform the operation \n",
    "action.perform() "
   ]
  },
  {
   "cell_type": "code",
   "execution_count": 43,
   "metadata": {},
   "outputs": [],
   "source": [
    "#!pip install webdriver-manager"
   ]
  },
  {
   "cell_type": "code",
   "execution_count": null,
   "metadata": {},
   "outputs": [],
   "source": []
  }
 ],
 "metadata": {
  "kernelspec": {
   "display_name": "Python 3",
   "language": "python",
   "name": "python3"
  },
  "language_info": {
   "codemirror_mode": {
    "name": "ipython",
    "version": 3
   },
   "file_extension": ".py",
   "mimetype": "text/x-python",
   "name": "python",
   "nbconvert_exporter": "python",
   "pygments_lexer": "ipython3",
   "version": "3.7.7"
  }
 },
 "nbformat": 4,
 "nbformat_minor": 4
}
